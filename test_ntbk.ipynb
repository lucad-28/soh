{
 "cells": [
  {
   "cell_type": "code",
   "execution_count": 1,
   "id": "6a287b6f",
   "metadata": {},
   "outputs": [
    {
     "name": "stderr",
     "output_type": "stream",
     "text": [
      "[nltk_data] Downloading package punkt_tab to\n",
      "[nltk_data]     C:\\Users\\lucad\\AppData\\Roaming\\nltk_data...\n",
      "[nltk_data]   Package punkt_tab is already up-to-date!\n",
      "[nltk_data] Downloading package stopwords to\n",
      "[nltk_data]     C:\\Users\\lucad\\AppData\\Roaming\\nltk_data...\n",
      "[nltk_data]   Package stopwords is already up-to-date!\n"
     ]
    },
    {
     "data": {
      "text/plain": [
       "True"
      ]
     },
     "execution_count": 1,
     "metadata": {},
     "output_type": "execute_result"
    }
   ],
   "source": [
    "import nltk\n",
    "from nltk.corpus import stopwords\n",
    "from nltk.tokenize import word_tokenize\n",
    "import joblib\n",
    "\n",
    "nltk.download('punkt_tab')\n",
    "nltk.download('stopwords')"
   ]
  },
  {
   "cell_type": "code",
   "execution_count": 2,
   "id": "bb9a2957",
   "metadata": {},
   "outputs": [],
   "source": [
    "stopwords = set(stopwords.words('english'))\n",
    "model = joblib.load('spam_classifier_model.pkl')\n",
    "vectorizer = joblib.load('vectorizer.pkl')"
   ]
  },
  {
   "cell_type": "code",
   "execution_count": 3,
   "id": "92b9960d",
   "metadata": {},
   "outputs": [],
   "source": [
    "def preprocess_text(text):\n",
    "    tokens = word_tokenize(text.lower())\n",
    "    tokens = [word for word in tokens if word.isalpha() and word not in stopwords]\n",
    "    return ' '.join(tokens)"
   ]
  },
  {
   "cell_type": "code",
   "execution_count": 7,
   "id": "7956c680",
   "metadata": {},
   "outputs": [],
   "source": [
    "def predict(text):\n",
    "    text = preprocess_text(text)\n",
    "    text_vectorized = vectorizer.transform([text])\n",
    "    prediction = model.predict(text_vectorized)\n",
    "    proba = model.predict_proba(text_vectorized)\n",
    "    \n",
    "    print(f\"Text: '{text}' => Prediction: {'Spam' if prediction[0] == 1 else 'Ham'} ({max(proba[0]) * 100:.2f}%)\")\n"
   ]
  },
  {
   "cell_type": "code",
   "execution_count": 8,
   "id": "d8a968e0",
   "metadata": {},
   "outputs": [
    {
     "name": "stdout",
     "output_type": "stream",
     "text": [
      "Text: 'congratulations lottery' => Prediction: Spam (99.68%)\n",
      "Text: 'hey today let catch later' => Prediction: Ham (88.36%)\n",
      "Text: 'reminder appointment tomorrow' => Prediction: Ham (97.68%)\n",
      "Text: 'selected free gift card click claim' => Prediction: Spam (99.89%)\n"
     ]
    }
   ],
   "source": [
    "# Test the prediction function\n",
    "texts = [\n",
    "    \"Congratulations! You've won a lottery of $1000!\",\n",
    "    \"Hey, how are you doing today? Let's catch up later.\",\n",
    "    \"This is a reminder for your appointment tomorrow.\",\n",
    "    \"You've been selected for a free gift card! Click here to claim.\",\n",
    "]\n",
    "for text in texts:\n",
    "    predict(text)\n"
   ]
  }
 ],
 "metadata": {
  "kernelspec": {
   "display_name": "sohenv",
   "language": "python",
   "name": "python3"
  },
  "language_info": {
   "codemirror_mode": {
    "name": "ipython",
    "version": 3
   },
   "file_extension": ".py",
   "mimetype": "text/x-python",
   "name": "python",
   "nbconvert_exporter": "python",
   "pygments_lexer": "ipython3",
   "version": "3.13.2"
  }
 },
 "nbformat": 4,
 "nbformat_minor": 5
}
